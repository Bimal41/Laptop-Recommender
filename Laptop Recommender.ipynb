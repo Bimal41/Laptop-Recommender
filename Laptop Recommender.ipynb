{
 "cells": [
  {
   "cell_type": "code",
   "execution_count": 1,
   "id": "684eb9a8",
   "metadata": {},
   "outputs": [],
   "source": [
    "# Steps\n",
    "#1.Data collection\n",
    "#2.Data processing\n",
    "#3.Model training"
   ]
  },
  {
   "cell_type": "code",
   "execution_count": 2,
   "id": "c641fe14",
   "metadata": {},
   "outputs": [],
   "source": [
    "pip install pandas==1.3.5"
   ]
  },
  {
   "cell_type": "code",
   "execution_count": 3,
   "id": "8a4b9e28",
   "metadata": {},
   "outputs": [],
   "source": [
    "# import libraries\n",
    "import pandas as pd\n",
    "import numpy as np"
   ]
  },
  {
   "cell_type": "code",
   "execution_count": 4,
   "id": "46c11ce5",
   "metadata": {},
   "outputs": [],
   "source": [
    "laptops = pd.read_csv(\"Dataset/laptops.csv\")"
   ]
  },
  {
   "cell_type": "code",
   "execution_count": 5,
   "id": "a55ec5ae",
   "metadata": {},
   "outputs": [],
   "source": [
    "laptops.head(3)"
   ]
  },
  {
   "cell_type": "code",
   "execution_count": 6,
   "id": "0729ea6e",
   "metadata": {},
   "outputs": [],
   "source": [
    "laptops.shape"
   ]
  },
  {
   "cell_type": "code",
   "execution_count": 7,
   "id": "535824e2",
   "metadata": {},
   "outputs": [],
   "source": [
    "laptops.info()"
   ]
  },
  {
   "cell_type": "code",
   "execution_count": 8,
   "id": "2b1b0898",
   "metadata": {},
   "outputs": [],
   "source": [
    "laptops = laptops[['laptop_id','img_link','name','price','processor','ram','os','storage','rating','laptop_brand','os_brand','processor_brand','usecases']]"
   ]
  },
  {
   "cell_type": "code",
   "execution_count": 9,
   "id": "c237ea44",
   "metadata": {},
   "outputs": [],
   "source": [
    "laptops.head(3)"
   ]
  },
  {
   "cell_type": "code",
   "execution_count": 10,
   "id": "bfaa5c31",
   "metadata": {},
   "outputs": [],
   "source": [
    "# MISSING VALUES"
   ]
  },
  {
   "cell_type": "code",
   "execution_count": 11,
   "id": "f9607c1c",
   "metadata": {},
   "outputs": [],
   "source": [
    "laptops.isnull().sum()"
   ]
  },
  {
   "cell_type": "code",
   "execution_count": 12,
   "id": "f9b34604",
   "metadata": {},
   "outputs": [],
   "source": [
    "laptops.dropna(inplace=True)"
   ]
  },
  {
   "cell_type": "code",
   "execution_count": 13,
   "id": "e863b659",
   "metadata": {},
   "outputs": [],
   "source": [
    "laptops.duplicated().sum()"
   ]
  },
  {
   "cell_type": "code",
   "execution_count": 14,
   "id": "ad21b5a3",
   "metadata": {},
   "outputs": [],
   "source": [
    "laptops.iloc[0].laptop_brand"
   ]
  },
  {
   "cell_type": "code",
   "execution_count": 15,
   "id": "88e86f35",
   "metadata": {},
   "outputs": [],
   "source": [
    "\"\"\"\n",
    "Work and Productivity\n",
    "Education and Learning\n",
    "Communication and Social Networking\n",
    "Entertainment and Multimedia\n",
    "Creative Work\n",
    "\"\"\""
   ]
  },
  {
   "cell_type": "code",
   "execution_count": 16,
   "id": "fcbf01d2",
   "metadata": {},
   "outputs": [],
   "source": [
    "laptops.head(1)"
   ]
  },
  {
   "cell_type": "code",
   "execution_count": 17,
   "id": "d9eed2c0",
   "metadata": {},
   "outputs": [],
   "source": [
    "laptops['processor'] = laptops['processor'].apply(lambda x:x.split())\n",
    "laptops['ram'] = laptops['ram'].apply(lambda x:x.split())\n",
    "laptops['os'] = laptops['os'].apply(lambda x:x.split())\n",
    "laptops['use'] = laptops['usecases'].apply(lambda x:x.split())"
   ]
  },
  {
   "cell_type": "code",
   "execution_count": 18,
   "id": "d0216e73",
   "metadata": {},
   "outputs": [],
   "source": [
    "laptops['tags'] = laptops['processor']+laptops['ram']+laptops['os']+laptops['use']"
   ]
  },
  {
   "cell_type": "code",
   "execution_count": 19,
   "id": "64bc69b1",
   "metadata": {},
   "outputs": [],
   "source": [
    "laptops.head(1)"
   ]
  },
  {
   "cell_type": "code",
   "execution_count": 20,
   "id": "d2c5b56b",
   "metadata": {},
   "outputs": [],
   "source": [
    "laptops.iloc[0].tags"
   ]
  },
  {
   "cell_type": "code",
   "execution_count": 21,
   "id": "aa9a6669",
   "metadata": {},
   "outputs": [],
   "source": [
    "new = laptops.drop(columns=['processor','ram','os','storage','rating','os_brand','processor_brand','use'])"
   ]
  },
  {
   "cell_type": "code",
   "execution_count": 22,
   "id": "8c3fcf45",
   "metadata": {},
   "outputs": [],
   "source": [
    "new.head(2)"
   ]
  },
  {
   "cell_type": "code",
   "execution_count": 23,
   "id": "59f2d3a3",
   "metadata": {},
   "outputs": [],
   "source": [
    "new['tags'] = new['tags'].apply(lambda x:\" \".join(x))"
   ]
  },
  {
   "cell_type": "code",
   "execution_count": 24,
   "id": "1af6e3c0",
   "metadata": {},
   "outputs": [],
   "source": [
    "new.iloc[0].tags"
   ]
  },
  {
   "cell_type": "code",
   "execution_count": 25,
   "id": "9c4972b5",
   "metadata": {},
   "outputs": [],
   "source": [
    "new['tags'] = new['tags'].apply(lambda x:x.lower())"
   ]
  },
  {
   "cell_type": "code",
   "execution_count": 26,
   "id": "c51657ee",
   "metadata": {},
   "outputs": [],
   "source": [
    "new.head(2)"
   ]
  },
  {
   "cell_type": "code",
   "execution_count": 27,
   "id": "a364ae9b",
   "metadata": {},
   "outputs": [],
   "source": [
    "new.iloc[0].tags"
   ]
  },
  {
   "cell_type": "code",
   "execution_count": 28,
   "id": "1e14fbf2",
   "metadata": {},
   "outputs": [],
   "source": [
    "import nltk"
   ]
  },
  {
   "cell_type": "code",
   "execution_count": 29,
   "id": "b83819f7",
   "metadata": {},
   "outputs": [],
   "source": [
    "from nltk.stem.porter import PorterStemmer"
   ]
  },
  {
   "cell_type": "code",
   "execution_count": 30,
   "id": "0eec631c",
   "metadata": {},
   "outputs": [],
   "source": [
    "ps = PorterStemmer()"
   ]
  },
  {
   "cell_type": "code",
   "execution_count": 31,
   "id": "c616c261",
   "metadata": {},
   "outputs": [],
   "source": [
    "def stem(text):\n",
    "    y=[]\n",
    "    for i in text.split():\n",
    "        y.append(ps.stem(i))\n",
    "        \n",
    "    return \" \".join(y)"
   ]
  },
  {
   "cell_type": "code",
   "execution_count": 32,
   "id": "a8823cca",
   "metadata": {},
   "outputs": [],
   "source": [
    "new['tags'] = new['tags'].apply(stem)"
   ]
  },
  {
   "cell_type": "code",
   "execution_count": 33,
   "id": "ee0ca9e4",
   "metadata": {},
   "outputs": [],
   "source": [
    "new.head(2)"
   ]
  },
  {
   "cell_type": "code",
   "execution_count": 34,
   "id": "6a080e94",
   "metadata": {},
   "outputs": [],
   "source": [
    "# counter vectorizing"
   ]
  },
  {
   "cell_type": "code",
   "execution_count": 35,
   "id": "05e4b00b",
   "metadata": {},
   "outputs": [],
   "source": [
    "from sklearn.feature_extraction.text import CountVectorizer"
   ]
  },
  {
   "cell_type": "code",
   "execution_count": 36,
   "id": "e6aa0f88",
   "metadata": {},
   "outputs": [],
   "source": [
    "cv = CountVectorizer(max_features = 5000, stop_words='english')"
   ]
  },
  {
   "cell_type": "code",
   "execution_count": 37,
   "id": "db420f20",
   "metadata": {},
   "outputs": [],
   "source": [
    "vector = cv.fit_transform(new['tags']).toarray()"
   ]
  },
  {
   "cell_type": "code",
   "execution_count": 38,
   "id": "0a2b490a",
   "metadata": {},
   "outputs": [],
   "source": [
    "vector"
   ]
  },
  {
   "cell_type": "code",
   "execution_count": 39,
   "id": "0c37e688",
   "metadata": {},
   "outputs": [],
   "source": [
    "from sklearn.metrics.pairwise import cosine_similarity"
   ]
  },
  {
   "cell_type": "code",
   "execution_count": 40,
   "id": "b3e62100",
   "metadata": {},
   "outputs": [],
   "source": [
    "similarity = cosine_similarity(vector)"
   ]
  },
  {
   "cell_type": "code",
   "execution_count": 41,
   "id": "8fe4d640",
   "metadata": {},
   "outputs": [],
   "source": [
    "similarity"
   ]
  },
  {
   "cell_type": "code",
   "execution_count": 42,
   "id": "04c90694",
   "metadata": {},
   "outputs": [],
   "source": [
    "similarity[0]"
   ]
  },
  {
   "cell_type": "code",
   "execution_count": 43,
   "id": "438d9e99",
   "metadata": {},
   "outputs": [],
   "source": [
    "len(similarity[0])"
   ]
  },
  {
   "cell_type": "code",
   "execution_count": 44,
   "id": "c59963c4",
   "metadata": {},
   "outputs": [],
   "source": [
    "#Recommend"
   ]
  },
  {
   "cell_type": "code",
   "execution_count": 45,
   "id": "5f304aa5",
   "metadata": {},
   "outputs": [],
   "source": [
    "def recommend(laptop):\n",
    "    index = new[new['usecases']==laptop].index[0]\n",
    "    distances = sorted(list(enumerate(similarity[index])), reverse=True, key = lambda x:x[1])\n",
    "    for i in distances[1:6]:\n",
    "        print(new.iloc[i[0]].usecases)"
   ]
  },
  {
   "cell_type": "code",
   "execution_count": 46,
   "id": "35276df0",
   "metadata": {},
   "outputs": [],
   "source": [
    "def recommend(use):\n",
    "    index = new[new['usecases'] == use].index[0]\n",
    "    distances = sorted(list(enumerate(similarity[index])), reverse=True, key=lambda x: x[1])\n",
    "    printed_names = set()\n",
    "    for i in distances[1:50]:\n",
    "        row_index = i[0]\n",
    "        name = new.iloc[row_index]['name']\n",
    "        if name not in printed_names:\n",
    "            printed_names.add(name)\n",
    "            print(name)"
   ]
  },
  {
   "cell_type": "code",
   "execution_count": 47,
   "id": "dbd88cd7",
   "metadata": {},
   "outputs": [],
   "source": [
    "sorted(list(enumerate(similarity[0])), reverse=True, key = lambda x:x[1])"
   ]
  },
  {
   "cell_type": "code",
   "execution_count": 48,
   "id": "b8035c16",
   "metadata": {},
   "outputs": [],
   "source": [
    "recommend(\"Work and Productivity, Entertainment and Multimedia, Creative Work\")"
   ]
  },
  {
   "cell_type": "code",
   "execution_count": 49,
   "id": "45a60abe",
   "metadata": {},
   "outputs": [],
   "source": [
    "import pickle"
   ]
  },
  {
   "cell_type": "code",
   "execution_count": 50,
   "id": "3c02eada",
   "metadata": {},
   "outputs": [],
   "source": [
    "pickle.dump(new, open('model/usecases_list.pkl','wb'))"
   ]
  },
  {
   "cell_type": "code",
   "execution_count": 51,
   "id": "333709fd",
   "metadata": {},
   "outputs": [],
   "source": [
    "pickle.dump(similarity, open('model/similarity.pkl','wb'))"
   ]
  },
  {
   "cell_type": "code",
   "execution_count": null,
   "id": "816c2b82",
   "metadata": {},
   "outputs": [],
   "source": []
  },
  {
   "cell_type": "code",
   "execution_count": null,
   "id": "7c9cc47e",
   "metadata": {},
   "outputs": [],
   "source": []
  }
 ],
 "metadata": {
  "kernelspec": {
   "display_name": "Python 3 (ipykernel)",
   "language": "python",
   "name": "python3"
  },
  "language_info": {
   "codemirror_mode": {
    "name": "ipython",
    "version": 3
   },
   "file_extension": ".py",
   "mimetype": "text/x-python",
   "name": "python",
   "nbconvert_exporter": "python",
   "pygments_lexer": "ipython3",
   "version": "3.10.9"
  }
 },
 "nbformat": 4,
 "nbformat_minor": 5
}
